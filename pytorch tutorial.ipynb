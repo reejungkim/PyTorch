{
 "cells": [
  {
   "cell_type": "code",
   "execution_count": 1,
   "id": "defensive-zimbabwe",
   "metadata": {},
   "outputs": [],
   "source": [
    "import torch"
   ]
  },
  {
   "cell_type": "code",
   "execution_count": 2,
   "id": "adapted-nicaragua",
   "metadata": {},
   "outputs": [
    {
     "data": {
      "text/plain": [
       "tensor([[3.7251e+22, 4.5780e-41, 3.7251e+22, 4.5780e-41],\n",
       "        [3.7251e+22, 4.5780e-41, 2.5853e+26, 4.5780e-41],\n",
       "        [2.5854e+26, 4.5780e-41, 2.5917e+26, 4.5780e-41],\n",
       "        [2.5901e+26, 4.5780e-41, 2.5885e+26, 4.5780e-41],\n",
       "        [1.4013e-45, 4.5780e-41, 0.0000e+00, 0.0000e+00]])"
      ]
     },
     "execution_count": 2,
     "metadata": {},
     "output_type": "execute_result"
    }
   ],
   "source": [
    "#create empty tensor\n",
    "torch.empty(5,4)"
   ]
  },
  {
   "cell_type": "code",
   "execution_count": 3,
   "id": "acting-bulletin",
   "metadata": {},
   "outputs": [
    {
     "data": {
      "text/plain": [
       "tensor([[1., 1., 1.],\n",
       "        [1., 1., 1.],\n",
       "        [1., 1., 1.]])"
      ]
     },
     "execution_count": 3,
     "metadata": {},
     "output_type": "execute_result"
    }
   ],
   "source": [
    "#create tensor consisted of 1s\n",
    "torch.ones(3,3)"
   ]
  },
  {
   "cell_type": "code",
   "execution_count": 4,
   "id": "frozen-hybrid",
   "metadata": {},
   "outputs": [
    {
     "data": {
      "text/plain": [
       "tensor([[0., 0., 0.],\n",
       "        [0., 0., 0.]])"
      ]
     },
     "execution_count": 4,
     "metadata": {},
     "output_type": "execute_result"
    }
   ],
   "source": [
    "#create tensor consisted of 0s\n",
    "torch.zeros(2,3)"
   ]
  },
  {
   "cell_type": "code",
   "execution_count": 5,
   "id": "fifth-olive",
   "metadata": {},
   "outputs": [
    {
     "data": {
      "text/plain": [
       "tensor([[0.1567, 0.2492, 0.8188, 0.7155, 0.3293, 0.4093],\n",
       "        [0.6156, 0.6846, 0.6341, 0.7124, 0.9923, 0.8140],\n",
       "        [0.0449, 0.1706, 0.7513, 0.9099, 0.1324, 0.3551],\n",
       "        [0.1259, 0.6265, 0.4075, 0.9100, 0.9611, 0.0605],\n",
       "        [0.4531, 0.2063, 0.9891, 0.6724, 0.4007, 0.9899]])"
      ]
     },
     "execution_count": 5,
     "metadata": {},
     "output_type": "execute_result"
    }
   ],
   "source": [
    "#create random tensor\n",
    "torch.rand(5,6)"
   ]
  },
  {
   "cell_type": "code",
   "execution_count": 6,
   "id": "bearing-alfred",
   "metadata": {},
   "outputs": [
    {
     "data": {
      "text/plain": [
       "tensor([13,  4])"
      ]
     },
     "execution_count": 6,
     "metadata": {},
     "output_type": "execute_result"
    }
   ],
   "source": [
    "#convert to tensor\n",
    "torch.tensor([13, 4]) #convert list to tensor"
   ]
  },
  {
   "cell_type": "code",
   "execution_count": 8,
   "id": "weird-chance",
   "metadata": {},
   "outputs": [
    {
     "data": {
      "text/plain": [
       "tensor([4, 5, 7])"
      ]
     },
     "execution_count": 8,
     "metadata": {},
     "output_type": "execute_result"
    }
   ],
   "source": [
    "#conver to tensor\n",
    "import numpy as np\n",
    "torch.tensor( np.array([4,5,7])) #convert array to tensor"
   ]
  },
  {
   "cell_type": "code",
   "execution_count": null,
   "id": "optimum-unknown",
   "metadata": {},
   "outputs": [],
   "source": []
  }
 ],
 "metadata": {
  "kernelspec": {
   "display_name": "Python 3",
   "language": "python",
   "name": "python3"
  },
  "language_info": {
   "codemirror_mode": {
    "name": "ipython",
    "version": 3
   },
   "file_extension": ".py",
   "mimetype": "text/x-python",
   "name": "python",
   "nbconvert_exporter": "python",
   "pygments_lexer": "ipython3",
   "version": "3.7.0"
  }
 },
 "nbformat": 4,
 "nbformat_minor": 5
}
