{
  "nbformat": 4,
  "nbformat_minor": 0,
  "metadata": {
    "colab": {
      "name": "FirstColab.ipynb",
      "provenance": [],
      "authorship_tag": "ABX9TyM5twsksWxktK0sWM/FeUFJ",
      "include_colab_link": true
    },
    "kernelspec": {
      "name": "python3",
      "display_name": "Python 3"
    },
    "accelerator": "GPU"
  },
  "cells": [
    {
      "cell_type": "markdown",
      "metadata": {
        "id": "view-in-github",
        "colab_type": "text"
      },
      "source": [
        "<a href=\"https://colab.research.google.com/github/reejungkim/PyTorch/blob/main/FirstColab.ipynb\" target=\"_parent\"><img src=\"https://colab.research.google.com/assets/colab-badge.svg\" alt=\"Open In Colab\"/></a>"
      ]
    },
    {
      "cell_type": "markdown",
      "metadata": {
        "id": "SHUa0Kc9AnHD"
      },
      "source": [
        "코랩은 파이썬 가상환경을 생성하고 CUDA, CUDNN을 설치하는 모든 과정을 진행하지 않고 딥러닝 개발환경을 구축할 수 있다"
      ]
    },
    {
      "cell_type": "code",
      "metadata": {
        "id": "s_XRktifZYCi"
      },
      "source": [
        "import pandas as pd\n",
        "import numpy as np\n",
        "import os"
      ],
      "execution_count": 1,
      "outputs": []
    },
    {
      "cell_type": "code",
      "metadata": {
        "id": "Joklhf5NZfat",
        "colab": {
          "base_uri": "https://localhost:8080/"
        },
        "outputId": "38289989-e151-4c57-abad-d23123808bdc"
      },
      "source": [
        "import torch\n",
        "torch.cuda.is_available()# GPU가 사용 가능한지 확인"
      ],
      "execution_count": 2,
      "outputs": [
        {
          "output_type": "execute_result",
          "data": {
            "text/plain": [
              "True"
            ]
          },
          "metadata": {},
          "execution_count": 2
        }
      ]
    },
    {
      "cell_type": "code",
      "metadata": {
        "colab": {
          "base_uri": "https://localhost:8080/"
        },
        "id": "dk5OyHwibi5u",
        "outputId": "48a80063-d2f5-4161-b127-12aab8bb147d"
      },
      "source": [
        "torch.cuda.device_count() # 사용 가능한 장치가 몇 개인지 확인"
      ],
      "execution_count": 3,
      "outputs": [
        {
          "output_type": "execute_result",
          "data": {
            "text/plain": [
              "1"
            ]
          },
          "metadata": {},
          "execution_count": 3
        }
      ]
    },
    {
      "cell_type": "code",
      "metadata": {
        "id": "fiyPhYsXboxk",
        "colab": {
          "base_uri": "https://localhost:8080/",
          "height": 35
        },
        "outputId": "dda684f0-5e48-49bb-ae9b-ebea09813bfa"
      },
      "source": [
        "torch.cuda.get_device_name(0) # 첫번째 GPU의 장치명을 확인"
      ],
      "execution_count": 4,
      "outputs": [
        {
          "output_type": "execute_result",
          "data": {
            "application/vnd.google.colaboratory.intrinsic+json": {
              "type": "string"
            },
            "text/plain": [
              "'Tesla K80'"
            ]
          },
          "metadata": {},
          "execution_count": 4
        }
      ]
    },
    {
      "cell_type": "code",
      "metadata": {
        "id": "n6CEN4W1w_NN"
      },
      "source": [
        "import tensorflow as tf\n",
        "#연산과 텐서가 어떤 장치에 할당되었는지 확인\n",
        "tf.debugging.set_log_device_placement(True)"
      ],
      "execution_count": 6,
      "outputs": []
    },
    {
      "cell_type": "code",
      "metadata": {
        "colab": {
          "base_uri": "https://localhost:8080/"
        },
        "id": "WzpxVGeYBgFv",
        "outputId": "6cd57856-fa0d-4eec-eb79-83e87ae3761f"
      },
      "source": [
        "#텐서를 생성할 때 device 옵션을 cpu와 cuda 중에서 선택할 수 있다.\n",
        "torch.tensor([1,2, 3], device=\"cuda\")\n",
        "#\"cuda\"를 선택하면 해당 텐서는 GPU 상에서 처리. \n",
        "#어떤 GPU에서 처리할 것인지도 정할 수 있는데, 그냥 \"cuda\"라고 하면 기본 GPU인 \"cuda:0\"으로 설정"
      ],
      "execution_count": 7,
      "outputs": [
        {
          "output_type": "execute_result",
          "data": {
            "text/plain": [
              "tensor([1, 2, 3], device='cuda:0')"
            ]
          },
          "metadata": {},
          "execution_count": 7
        }
      ]
    },
    {
      "cell_type": "code",
      "metadata": {
        "colab": {
          "base_uri": "https://localhost:8080/"
        },
        "id": "3JQVuQUtw2aL",
        "outputId": "79f48712-077f-42c7-ac6c-33bc6062bee6"
      },
      "source": [
        "shape = (2,3,)\n",
        "rand_tensor = torch.rand(shape)\n",
        "rand_tensor"
      ],
      "execution_count": 5,
      "outputs": [
        {
          "output_type": "execute_result",
          "data": {
            "text/plain": [
              "tensor([[0.3513, 0.1088, 0.4175],\n",
              "        [0.3844, 0.3574, 0.0611]])"
            ]
          },
          "metadata": {},
          "execution_count": 5
        }
      ]
    },
    {
      "cell_type": "code",
      "metadata": {
        "id": "vmZ70ox_zhnl"
      },
      "source": [
        "#이미 CPU에 올라가 있는 텐서는 to( )나 cuda( )를 이용해 GPU로 옮길 수 있습니다.\n",
        "tensor = torch.tensor([1, 2, 3], device=\"cpu\")\n",
        "tensor = tensor.to(\"cuda\")\n",
        "# 또는\n",
        "tensor = tensor.cuda()"
      ],
      "execution_count": 6,
      "outputs": []
    }
  ]
}